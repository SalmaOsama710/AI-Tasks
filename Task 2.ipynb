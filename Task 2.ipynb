{
 "cells": [
  {
   "cell_type": "markdown",
   "id": "323b3598",
   "metadata": {},
   "source": [
    "# Task 1: remove element that occured more than one time\n",
    "## There are 2 Way by using Function or Forloop"
   ]
  },
  {
   "cell_type": "markdown",
   "id": "20cb2eec",
   "metadata": {},
   "source": [
    "### Forloop\n"
   ]
  },
  {
   "cell_type": "code",
   "execution_count": 3,
   "id": "083440a1",
   "metadata": {},
   "outputs": [
    {
     "name": "stdout",
     "output_type": "stream",
     "text": [
      "Enter the number that you want to remove it from the list: 3\n",
      "[44, 55, 75, 9, 4, 6, 1, 3, 7, 99, 3, 6, 4, 'salma', [1, 2, 3, 4, 5], True]\n"
     ]
    }
   ],
   "source": [
    "# we want to remove special element from list e.g:num.3\n",
    "num = input(\"Enter the number that you want to remove it from the list: \")\n",
    "list=[44,55,75,9,4,6,1,3,7,99,3,6,4,\"salma\",[1,2,3,4,5],True]\n",
    "for ele in list:\n",
    "    if(ele==num):\n",
    "        list.remove(num)\n",
    "print(list)"
   ]
  },
  {
   "cell_type": "code",
   "execution_count": 6,
   "id": "f8f24220",
   "metadata": {},
   "outputs": [
    {
     "name": "stdout",
     "output_type": "stream",
     "text": [
      "Enter the number that you want to remove it from the list: 3\n",
      "[44, 55, 75, 9, 4, 6, 1, 3, 7, 99, 3, 6, 4, 'salma', [1, 2, 3, 4, 5], True]\n"
     ]
    }
   ],
   "source": [
    "num = input(\"Enter the number that you want to remove it from the list: \")\n",
    "list=[44,55,75,9,4,6,1,3,7,99,3,6,4,\"salma\",[1,2,3,4,5],True]\n",
    "list = [ ele for ele in list if ele!=num]\n",
    "print(list)"
   ]
  },
  {
   "cell_type": "markdown",
   "id": "39fc09bb",
   "metadata": {},
   "source": [
    "### Function"
   ]
  },
  {
   "cell_type": "code",
   "execution_count": 7,
   "id": "38b17670",
   "metadata": {},
   "outputs": [
    {
     "name": "stdout",
     "output_type": "stream",
     "text": [
      "Enter the number that you want to remove it from the list: 3\n",
      "[44, 55, 75, 9, 4, 6, 1, 3, 7, 99, 3, 6, 4, 'salma', [1, 2, 3, 4, 5], True]\n"
     ]
    }
   ],
   "source": [
    "def RemoveMulti(list, num):\n",
    "    for ele in list:\n",
    "        if(ele==num):\n",
    "            list.remove(num)\n",
    "    return list\n",
    "    \n",
    "num = input(\"Enter the number that you want to remove it from the list: \")\n",
    "list=[44,55,75,9,4,6,1,3,7,99,3,6,4,\"salma\",[1,2,3,4,5],True]\n",
    "print(RemoveMulti(list, num))\n"
   ]
  },
  {
   "cell_type": "markdown",
   "id": "f05692ad",
   "metadata": {},
   "source": [
    "# Task 2:How to print ASCII representation of character"
   ]
  },
  {
   "cell_type": "markdown",
   "id": "6d72a95e",
   "metadata": {},
   "source": [
    "## By using ord() Function"
   ]
  },
  {
   "cell_type": "code",
   "execution_count": 11,
   "id": "fdf4afa9",
   "metadata": {},
   "outputs": [
    {
     "name": "stdout",
     "output_type": "stream",
     "text": [
      "Enter the Character: A\n",
      "The ASCII value of 'A' is 65\n"
     ]
    }
   ],
   "source": [
    "char = input(\"Enter the Character: \")\n",
    "print(\"The ASCII value of '\" + char + \"' is\", ord(char))"
   ]
  },
  {
   "cell_type": "markdown",
   "id": "64cedd15",
   "metadata": {},
   "source": [
    "# Task 3: Take 2 num. from user ,take type of operation & then perform operation & print the result at the end"
   ]
  },
  {
   "cell_type": "code",
   "execution_count": 27,
   "id": "bf0e7f6f",
   "metadata": {},
   "outputs": [
    {
     "name": "stdout",
     "output_type": "stream",
     "text": [
      "Enter two value: 5 6\n",
      "Enter the operation: -\n",
      "the result=-1\n"
     ]
    }
   ],
   "source": [
    "num1 , num2 =[int(x) for x in input(\"Enter two value: \").split()]\n",
    "operation =input(\"Enter the operation: \")\n",
    "if(operation=='+'):\n",
    "    print('the result='+str(num1+num2))\n",
    "elif(operation=='-'):\n",
    "    print('the result='+str(num1-num2))\n",
    "elif(operation=='*'):\n",
    "    print('the result='+str(num1*num2))\n",
    "elif(operation=='/'):\n",
    "    print('the result='+str(num1/num2))\n",
    "else:\n",
    "    print(\"please try again\")"
   ]
  },
  {
   "cell_type": "code",
   "execution_count": null,
   "id": "c622d510",
   "metadata": {},
   "outputs": [],
   "source": []
  },
  {
   "cell_type": "code",
   "execution_count": null,
   "id": "0a54f836",
   "metadata": {},
   "outputs": [],
   "source": []
  }
 ],
 "metadata": {
  "kernelspec": {
   "display_name": "Python 3",
   "language": "python",
   "name": "python3"
  },
  "language_info": {
   "codemirror_mode": {
    "name": "ipython",
    "version": 3
   },
   "file_extension": ".py",
   "mimetype": "text/x-python",
   "name": "python",
   "nbconvert_exporter": "python",
   "pygments_lexer": "ipython3",
   "version": "3.8.8"
  }
 },
 "nbformat": 4,
 "nbformat_minor": 5
}

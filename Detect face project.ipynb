{
 "cells": [
  {
   "cell_type": "code",
   "execution_count": 1,
   "id": "d5a567b6",
   "metadata": {
    "ExecuteTime": {
     "end_time": "2022-02-07T13:05:31.135624Z",
     "start_time": "2022-02-07T13:05:31.014791Z"
    }
   },
   "outputs": [],
   "source": [
    "import cv2 as cv"
   ]
  },
  {
   "cell_type": "code",
   "execution_count": 2,
   "id": "775feaff",
   "metadata": {
    "ExecuteTime": {
     "end_time": "2022-02-07T13:05:31.968802Z",
     "start_time": "2022-02-07T13:05:31.655242Z"
    }
   },
   "outputs": [],
   "source": [
    "import mediapipe as mp"
   ]
  },
  {
   "cell_type": "code",
   "execution_count": 3,
   "id": "23775eab",
   "metadata": {
    "ExecuteTime": {
     "end_time": "2022-02-07T13:05:35.285052Z",
     "start_time": "2022-02-07T13:05:32.367888Z"
    }
   },
   "outputs": [],
   "source": [
    "cap= cv.VideoCapture(0)#take image from laptop camera\n",
    "mpDraw=mp.solutions.drawing_utils#help to draw on our faces\n",
    "mpFaceMesh=mp.solutions.face_mesh#creat our face mesh\n",
    "faceMesh=mpFaceMesh.FaceMesh()# it is quite a bit of repetition but that we need to create object & from where we can find our faces,this class accept only an RGB image\n",
    "drawSpec=mpDraw.DrawingSpec(thickness=1,circle_radius=1)# to change the thickness of line & radius of circule"
   ]
  },
  {
   "cell_type": "code",
   "execution_count": 4,
   "id": "c2d92a1e",
   "metadata": {
    "ExecuteTime": {
     "end_time": "2022-02-07T13:05:47.396271Z",
     "start_time": "2022-02-07T13:05:35.286049Z"
    }
   },
   "outputs": [],
   "source": [
    "while(True):\n",
    "    success,image=cap.read()\n",
    "    imgRGB=cv.cvtColor(image,cv.COLOR_BGR2RGB)#convert from BGR to RGB\n",
    "    results=faceMesh.process(imgRGB)\n",
    "    if results.multi_face_landmarks:#if s.thing is detected then we are going to draw\n",
    "        for faceLms in results.multi_face_landmarks:# we are going draw\n",
    "            mpDraw.draw_landmarks(image,faceLms,mpFaceMesh.FACEMESH_CONTOURS,drawSpec)\n",
    "           #mpFaceMesh.FACE_CONNECTIONS-->error because the update become mpFaceMesh.FACEMESH_CONTOURS\n",
    "    cv.imshow('frame',image)#show the image\n",
    "    if cv.waitKey(1)& 0xFF==ord('q'):#press q to get quit\n",
    "        break\n",
    "cap.release()\n",
    "cv.destroyAllWindows()"
   ]
  },
  {
   "cell_type": "code",
   "execution_count": null,
   "id": "de2e3400",
   "metadata": {},
   "outputs": [],
   "source": []
  }
 ],
 "metadata": {
  "kernelspec": {
   "display_name": "Python 3",
   "language": "python",
   "name": "python3"
  },
  "language_info": {
   "codemirror_mode": {
    "name": "ipython",
    "version": 3
   },
   "file_extension": ".py",
   "mimetype": "text/x-python",
   "name": "python",
   "nbconvert_exporter": "python",
   "pygments_lexer": "ipython3",
   "version": "3.8.8"
  }
 },
 "nbformat": 4,
 "nbformat_minor": 5
}

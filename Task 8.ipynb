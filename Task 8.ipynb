{
 "cells": [
  {
   "cell_type": "markdown",
   "id": "b90cc882",
   "metadata": {},
   "source": [
    "# Task 1:"
   ]
  },
  {
   "cell_type": "code",
   "execution_count": 79,
   "id": "b914903c",
   "metadata": {
    "ExecuteTime": {
     "end_time": "2021-08-16T15:51:47.468047Z",
     "start_time": "2021-08-16T15:51:47.464043Z"
    }
   },
   "outputs": [],
   "source": [
    "import requests\n",
    "from bs4 import BeautifulSoup\n",
    "import csv"
   ]
  },
  {
   "cell_type": "code",
   "execution_count": 80,
   "id": "c43dbdda",
   "metadata": {
    "ExecuteTime": {
     "end_time": "2021-08-16T15:51:50.949284Z",
     "start_time": "2021-08-16T15:51:49.583618Z"
    }
   },
   "outputs": [],
   "source": [
    "sources = requests.get(\"http://coreyms.com\").text"
   ]
  },
  {
   "cell_type": "code",
   "execution_count": 81,
   "id": "e3933ad9",
   "metadata": {
    "ExecuteTime": {
     "end_time": "2021-08-16T15:51:51.480948Z",
     "start_time": "2021-08-16T15:51:51.447770Z"
    }
   },
   "outputs": [],
   "source": [
    "soup = BeautifulSoup(sources , 'lxml')"
   ]
  },
  {
   "cell_type": "code",
   "execution_count": 82,
   "id": "cedfa5fc",
   "metadata": {
    "ExecuteTime": {
     "end_time": "2021-08-16T15:51:53.486602Z",
     "start_time": "2021-08-16T15:51:53.471686Z"
    }
   },
   "outputs": [],
   "source": [
    "Task = open ('Task8Excel.csv', 'w', encoding='utf-8')\n",
    "writer = csv.writer(Task)\n",
    "writer.writerow(['headline', 'summary', 'link'])\n",
    "Task.close()"
   ]
  },
  {
   "cell_type": "code",
   "execution_count": 83,
   "id": "b4daa354",
   "metadata": {
    "ExecuteTime": {
     "end_time": "2021-08-16T15:51:55.994008Z",
     "start_time": "2021-08-16T15:51:55.956111Z"
    }
   },
   "outputs": [
    {
     "name": "stdout",
     "output_type": "stream",
     "text": [
      "Python Tutorial: Zip Files – Creating and Extracting Zip Archives \n",
      " In this video, we will be learning how to create and extract zip archives. We will start by using the zipfile module, and then we will see how to do this using the shutil module. We will learn how to do this with single files and directories, as well as learning how to use gzip as well. Let’s get started…\n",
      "https://youtube.com/watch?v=z0gguhEmWiY\n",
      "Python Data Science Tutorial: Analyzing the 2019 Stack Overflow Developer Survey \n",
      " In this Python Programming video, we will be learning how to download and analyze real-world data from the 2019 Stack Overflow Developer Survey. This is terrific practice for anyone getting into the data science field. We will learn different ways to analyze this data and also some best practices. Let’s get started…\n",
      "https://youtube.com/watch?v=_P7X8tMplsw\n",
      "Python Multiprocessing Tutorial: Run Code in Parallel Using the Multiprocessing Module \n",
      " In this Python Programming video, we will be learning how to run code in parallel using the multiprocessing module. We will also look at how to process multiple high-resolution images at the same time using a ProcessPoolExecutor from the concurrent.futures module. Let’s get started…\n",
      "https://youtube.com/watch?v=fKl2JW_qrso\n",
      "Python Threading Tutorial: Run Code Concurrently Using the Threading Module \n",
      " In this Python Programming video, we will be learning how to run threads concurrently using the threading module. We will also look at how to download multiple high-resolution images online using a ThreadPoolExecutor from the concurrent.futures module. Let’s get started…\n",
      "https://youtube.com/watch?v=IEEhzQoKtQU\n",
      "Update (2019-09-03) \n",
      " Hey everyone. I wanted to give you an update on my videos. I will be releasing videos on threading and multiprocessing within the next week. Thanks so much for your patience. I currently have a temporary recording studio setup at my Airbnb that will allow me to record and edit the threading/multiprocessing videos. I am going to be moving into my new house in 10 days and once I have my recording studio setup then you can expect much faster video releases. I really appreciate how patient everyone has been while I go through this move, especially those of you who are contributing monthly through YouTube \n"
     ]
    }
   ],
   "source": [
    "\n",
    "for i in range(0,5):\n",
    "    headline = articles[i].h2.a.text\n",
    "    summary = articles[i].find('div', class_ = \"entry-content\").p.text\n",
    "    print(headline,'\\n',summary)\n",
    "    try:\n",
    "        vid = articles[i].find('iframe', class_= \"youtube-player\")['src']\n",
    "        vid_id = vid.split('/')\n",
    "        video = vid_id[4].split('?')\n",
    "        c =video[0]\n",
    "        ytLink = f'https://youtube.com/watch?v={c}'\n",
    "        print(ytLink)\n",
    "    except Exception as e:\n",
    "         ytLink =\"there was an error with the youtube link\"\n",
    "    \n",
    "    Task = open ('Task8Excel.csv', 'a+', encoding='utf-8')\n",
    "    writer = csv.writer(Task)\n",
    "    writer.writerow([headline, summary, ytLink])\n",
    "    Task.close()\n",
    "\n",
    "    "
   ]
  },
  {
   "cell_type": "code",
   "execution_count": null,
   "id": "86f5eb62",
   "metadata": {},
   "outputs": [],
   "source": []
  }
 ],
 "metadata": {
  "kernelspec": {
   "display_name": "Python 3",
   "language": "python",
   "name": "python3"
  },
  "language_info": {
   "codemirror_mode": {
    "name": "ipython",
    "version": 3
   },
   "file_extension": ".py",
   "mimetype": "text/x-python",
   "name": "python",
   "nbconvert_exporter": "python",
   "pygments_lexer": "ipython3",
   "version": "3.8.8"
  }
 },
 "nbformat": 4,
 "nbformat_minor": 5
}

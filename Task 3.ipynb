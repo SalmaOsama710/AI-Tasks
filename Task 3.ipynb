{
 "cells": [
  {
   "cell_type": "markdown",
   "id": "ee80a5e3",
   "metadata": {},
   "source": [
    "# Task 1 : Create your own module & add at least 3 Function & 4 Constant Variable "
   ]
  },
  {
   "cell_type": "code",
   "execution_count": 1,
   "id": "12f6dc2f",
   "metadata": {
    "ExecuteTime": {
     "end_time": "2021-07-31T22:59:13.990948Z",
     "start_time": "2021-07-31T22:59:13.945401Z"
    }
   },
   "outputs": [
    {
     "name": "stdout",
     "output_type": "stream",
     "text": [
      "25\n",
      "computer science\n",
      "5000\n",
      "500\n",
      "Enter The Interview\n",
      "correct\n",
      "1000\n"
     ]
    }
   ],
   "source": [
    "import Employee\n",
    "print(Employee.Age)\n",
    "print(Employee.JobTitle)\n",
    "print(Employee.Salary)\n",
    "print(Employee.JobBouns)\n",
    "Employee.CheckAge(26)\n",
    "Employee.CheckCareer(\"computer science\")\n",
    "Employee.GetBouns(500)\n"
   ]
  },
  {
   "cell_type": "markdown",
   "id": "3f93d93e",
   "metadata": {},
   "source": [
    "# Task 2: How to create private variable or constant Variable in module"
   ]
  },
  {
   "cell_type": "markdown",
   "id": "951f1df8",
   "metadata": {},
   "source": [
    "we can't create private variable or constant Variable in python"
   ]
  }
 ],
 "metadata": {
  "kernelspec": {
   "display_name": "Python 3",
   "language": "python",
   "name": "python3"
  },
  "language_info": {
   "codemirror_mode": {
    "name": "ipython",
    "version": 3
   },
   "file_extension": ".py",
   "mimetype": "text/x-python",
   "name": "python",
   "nbconvert_exporter": "python",
   "pygments_lexer": "ipython3",
   "version": "3.8.8"
  }
 },
 "nbformat": 4,
 "nbformat_minor": 5
}

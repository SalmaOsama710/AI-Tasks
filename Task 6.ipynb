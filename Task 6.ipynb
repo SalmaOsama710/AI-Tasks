{
 "cells": [
  {
   "cell_type": "markdown",
   "id": "c45949ff",
   "metadata": {},
   "source": [
    "# Task 1:"
   ]
  },
  {
   "cell_type": "code",
   "execution_count": 91,
   "id": "3debae1b",
   "metadata": {
    "ExecuteTime": {
     "end_time": "2021-08-12T13:44:06.513570Z",
     "start_time": "2021-08-12T13:44:06.506198Z"
    }
   },
   "outputs": [],
   "source": [
    "class Employee():\n",
    "    def __init__(self):\n",
    "        self.Name=\"\"\n",
    "        self.Age=\"\"\n",
    "        self.JobTitle=\"\"\n",
    "    def AddSalary(self,sal):\n",
    "        self.Salary=sal\n",
    "    def ModifySalary(self,sal):\n",
    "        self.Salary=sal\n"
   ]
  },
  {
   "cell_type": "code",
   "execution_count": 92,
   "id": "385b16b2",
   "metadata": {
    "ExecuteTime": {
     "end_time": "2021-08-12T13:44:08.810968Z",
     "start_time": "2021-08-12T13:44:08.804983Z"
    }
   },
   "outputs": [],
   "source": [
    "A=Employee()"
   ]
  },
  {
   "cell_type": "code",
   "execution_count": 93,
   "id": "8531511e",
   "metadata": {
    "ExecuteTime": {
     "end_time": "2021-08-12T13:44:10.481190Z",
     "start_time": "2021-08-12T13:44:10.466524Z"
    }
   },
   "outputs": [],
   "source": [
    "A.Name=\"Salma\"\n",
    "A.Age=21\n",
    "A.JobTitle=\"Student Computer Science\"\n"
   ]
  },
  {
   "cell_type": "code",
   "execution_count": 94,
   "id": "cd504b08",
   "metadata": {
    "ExecuteTime": {
     "end_time": "2021-08-12T13:44:12.024293Z",
     "start_time": "2021-08-12T13:44:12.010866Z"
    }
   },
   "outputs": [],
   "source": [
    "Data=dict()\n",
    "file2 = open(\"SaveDataOfEmp.txt\",\"w+\")"
   ]
  },
  {
   "cell_type": "code",
   "execution_count": 95,
   "id": "dd3bc400",
   "metadata": {
    "ExecuteTime": {
     "end_time": "2021-08-12T13:44:16.167506Z",
     "start_time": "2021-08-12T13:44:16.149703Z"
    }
   },
   "outputs": [],
   "source": [
    "Data[\"Name\"]=A.Name\n",
    "file2.writelines(\"Name:\"+A.Name+\"\\n\")\n",
    "Data[\"Age\"]=A.Age\n",
    "file2.writelines(\"Age:\"+str(A.Age)+\"\\n\")\n",
    "Data[\"JobTitle\"]=A.Name\n",
    "file2.writelines(\"JobTitle:\"+A.JobTitle+\"\\n\")\n",
    "file2.close()"
   ]
  },
  {
   "cell_type": "code",
   "execution_count": 96,
   "id": "724f1207",
   "metadata": {
    "ExecuteTime": {
     "end_time": "2021-08-12T13:44:20.715966Z",
     "start_time": "2021-08-12T13:44:20.705147Z"
    }
   },
   "outputs": [
    {
     "name": "stdout",
     "output_type": "stream",
     "text": [
      "10000\n"
     ]
    }
   ],
   "source": [
    "A.AddSalary(10000)\n",
    "OldData=str(A.Salary)\n",
    "print(OldData)"
   ]
  },
  {
   "cell_type": "code",
   "execution_count": 97,
   "id": "21e48f4a",
   "metadata": {
    "ExecuteTime": {
     "end_time": "2021-08-12T13:44:40.062857Z",
     "start_time": "2021-08-12T13:44:40.044905Z"
    }
   },
   "outputs": [],
   "source": [
    "file2 = open(\"SaveDataOfEmp.txt\",\"a\")\n",
    "Data[\"Salary\"]=A.Salary\n",
    "file2.writelines(\"Salary:\"+OldData+\"\\n\")\n",
    "file2.close()"
   ]
  },
  {
   "cell_type": "code",
   "execution_count": 98,
   "id": "1e3d2c5a",
   "metadata": {
    "ExecuteTime": {
     "end_time": "2021-08-12T13:44:42.606107Z",
     "start_time": "2021-08-12T13:44:42.595778Z"
    }
   },
   "outputs": [
    {
     "name": "stdout",
     "output_type": "stream",
     "text": [
      "Salary:10000\n"
     ]
    }
   ],
   "source": [
    "OldData=\"Salary:\"+OldData\n",
    "A.ModifySalary(50000)\n",
    "NewData=\"Salary:\"+str(A.Salary)\n",
    "print(OldData)"
   ]
  },
  {
   "cell_type": "code",
   "execution_count": 99,
   "id": "962c9d61",
   "metadata": {
    "ExecuteTime": {
     "end_time": "2021-08-12T13:45:07.979368Z",
     "start_time": "2021-08-12T13:45:07.960402Z"
    }
   },
   "outputs": [
    {
     "name": "stdout",
     "output_type": "stream",
     "text": [
      "Salary:50000\n"
     ]
    }
   ],
   "source": [
    "print(NewData)"
   ]
  },
  {
   "cell_type": "code",
   "execution_count": 100,
   "id": "039791d5",
   "metadata": {
    "ExecuteTime": {
     "end_time": "2021-08-12T13:45:27.864303Z",
     "start_time": "2021-08-12T13:45:27.852785Z"
    }
   },
   "outputs": [],
   "source": [
    "file2 = open(\"SaveDataOfEmp.txt\",\"r\")\n",
    "filedata= file2.read()\n",
    "filedata = filedata.replace(OldData,NewData)\n",
    "file2 = open(\"SaveDataOfEmp.txt\",\"w\")\n",
    "file2.write(filedata)\n",
    "file2.close()"
   ]
  },
  {
   "cell_type": "code",
   "execution_count": 101,
   "id": "1d161274",
   "metadata": {
    "ExecuteTime": {
     "end_time": "2021-08-12T13:46:57.194112Z",
     "start_time": "2021-08-12T13:46:57.170319Z"
    }
   },
   "outputs": [
    {
     "data": {
      "text/plain": [
       "{'Name': 'Salma', 'Age': 21, 'JobTitle': 'Salma', 'Salary': 50000}"
      ]
     },
     "execution_count": 101,
     "metadata": {},
     "output_type": "execute_result"
    }
   ],
   "source": [
    "Data[\"Salary\"]=A.Salary\n",
    "Data"
   ]
  },
  {
   "cell_type": "code",
   "execution_count": null,
   "id": "bbde8c5f",
   "metadata": {},
   "outputs": [],
   "source": []
  }
 ],
 "metadata": {
  "kernelspec": {
   "display_name": "Python 3",
   "language": "python",
   "name": "python3"
  },
  "language_info": {
   "codemirror_mode": {
    "name": "ipython",
    "version": 3
   },
   "file_extension": ".py",
   "mimetype": "text/x-python",
   "name": "python",
   "nbconvert_exporter": "python",
   "pygments_lexer": "ipython3",
   "version": "3.8.8"
  }
 },
 "nbformat": 4,
 "nbformat_minor": 5
}
